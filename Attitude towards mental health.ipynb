{
 "cells": [
  {
   "cell_type": "markdown",
   "metadata": {},
   "source": [
    "### Dataset Information"
   ]
  },
  {
   "cell_type": "markdown",
   "metadata": {},
   "source": [
    "This dataset is from a 2014 survey that measures attitudes towards mental health and frequency of mental health disorders in the tech workplace.\n",
    "\n",
    "<b>Content</b>\n",
    "\n",
    "- Timestamp\n",
    "- Age\n",
    "- Gender\n",
    "- Country\n",
    "- state: If you live in the United States, which state or territory do you live in?\n",
    "- self_employed: Are you self-employed?\n",
    "- family_history: Do you have a family history of mental illness?\n",
    "- treatment: Have you sought treatment for a mental health condition?\n",
    "- work_interfere: If you have a mental health condition, do you feel that it interferes with your work?\n",
    "- no_employees: How many employees does your company or organization have?\n",
    "- remote_work: Do you work remotely (outside of an office) at least 50% of the time?\n",
    "- tech_company: Is your employer primarily a tech company/organization?\n",
    "- benefits: Does your employer provide mental health benefits?\n",
    "- care_options: Do you know the options for mental health care your employer provides?\n",
    "- wellness_program: Has your employer ever discussed mental health as part of an employee wellness program?\n",
    "- seek_help: Does your employer provide resources to learn more about mental health issues and how to seek help?\n",
    "- anonymity: Is your anonymity protected if you choose to take advantage of mental health or substance abuse treatment resources?\n",
    "- leave: How easy is it for you to take medical leave for a mental health condition?\n",
    "- mental_health_consequence: Do you think that discussing a mental health issue with your employer would have negative consequences?\n",
    "- phys_health_consequence: Do you think that discussing a physical health issue with your employer would have negative consequences?\n",
    "- coworkers: Would you be willing to discuss a mental health issue with your coworkers?\n",
    "- supervisor: Would you be willing to discuss a mental health issue with your direct supervisor(s)?\n",
    "- mental_health_interview: Would you bring up a mental health issue with a potential employer in an interview?\n",
    "- phys_health_interview: Would you bring up a physical health issue with a potential employer in an interview?\n",
    "- mental_vs_physical: Do you feel that your employer takes mental health as seriously as physical health?\n",
    "- obs_consequence: Have you heard of or observed negative consequences for coworkers with mental health conditions in your workplace?\n",
    "- comments: Any additional notes or comments"
   ]
  },
  {
   "cell_type": "markdown",
   "metadata": {},
   "source": [
    "Ideas\n",
    "- How attitudes towards mental health vary by gender?\n",
    "       ['Gender', 'treatment', 'mental_health_consequence', 'coworkers',\n",
    "       'supervisor', 'mental_health_interview', 'mental_vs_physical']\n",
    "\n",
    "- How attitudes towards mental health vary by size of company, age?"
   ]
  },
  {
   "cell_type": "markdown",
   "metadata": {},
   "source": [
    "### Libraries"
   ]
  },
  {
   "cell_type": "code",
   "execution_count": 1,
   "metadata": {},
   "outputs": [],
   "source": [
    "import numpy as np\n",
    "import pandas as pd\n",
    "import matplotlib.pyplot as plt"
   ]
  },
  {
   "cell_type": "code",
   "execution_count": 2,
   "metadata": {},
   "outputs": [],
   "source": [
    "# Importing dataset\n",
    "tech = pd.read_csv('survey.csv')"
   ]
  },
  {
   "cell_type": "code",
   "execution_count": 3,
   "metadata": {},
   "outputs": [
    {
     "data": {
      "text/plain": [
       "(1259, 27)"
      ]
     },
     "execution_count": 3,
     "metadata": {},
     "output_type": "execute_result"
    }
   ],
   "source": [
    "tech.shape"
   ]
  },
  {
   "cell_type": "code",
   "execution_count": 4,
   "metadata": {
    "scrolled": true
   },
   "outputs": [
    {
     "data": {
      "text/plain": [
       "Index(['Timestamp', 'Age', 'Gender', 'Country', 'state', 'self_employed',\n",
       "       'family_history', 'treatment', 'work_interfere', 'no_employees',\n",
       "       'remote_work', 'tech_company', 'benefits', 'care_options',\n",
       "       'wellness_program', 'seek_help', 'anonymity', 'leave',\n",
       "       'mental_health_consequence', 'phys_health_consequence', 'coworkers',\n",
       "       'supervisor', 'mental_health_interview', 'phys_health_interview',\n",
       "       'mental_vs_physical', 'obs_consequence', 'comments'],\n",
       "      dtype='object')"
      ]
     },
     "execution_count": 4,
     "metadata": {},
     "output_type": "execute_result"
    }
   ],
   "source": [
    "tech.columns"
   ]
  },
  {
   "cell_type": "code",
   "execution_count": 5,
   "metadata": {
    "scrolled": false
   },
   "outputs": [
    {
     "data": {
      "text/plain": [
       "male      993\n",
       "female    246\n",
       "other      20\n",
       "Name: Gender, dtype: int64"
      ]
     },
     "execution_count": 5,
     "metadata": {},
     "output_type": "execute_result"
    }
   ],
   "source": [
    "# Clean gender\n",
    "tech['Gender'] = [x.lower().replace('cis','').strip() for x in tech['Gender']]\n",
    "\n",
    "# find male gender\n",
    "male = ['m', 'male', 'male-ish', 'maile', 'mal', 'male ()', 'make',\n",
    "       'guy (-ish) ^_^', 'man', 'msle', 'mail', 'malr', 'ostensibly male, unsure what that really means']\n",
    "male_clean = {x: 'male' for x in male}\n",
    "\n",
    "# find female gender\n",
    "female = ['female', 'f', 'woman', 'femake', 'female ()', 'femail']\n",
    "\n",
    "female_clean = {x: 'female' for x in female}\n",
    "\n",
    "# map male and female\n",
    "gender_clean = {**male_clean , **female_clean}\n",
    "tech['Gender'] = tech['Gender'].map(gender_clean)\n",
    "\n",
    "# fill nulls with other\n",
    "tech['Gender'] = tech['Gender'].fillna('other')\n",
    "\n",
    "# value counts\n",
    "tech['Gender'].value_counts()"
   ]
  },
  {
   "cell_type": "markdown",
   "metadata": {},
   "source": [
    "Unbalanced population between men and women - use relative number"
   ]
  },
  {
   "cell_type": "code",
   "execution_count": 6,
   "metadata": {},
   "outputs": [
    {
     "data": {
      "text/html": [
       "<div>\n",
       "<style scoped>\n",
       "    .dataframe tbody tr th:only-of-type {\n",
       "        vertical-align: middle;\n",
       "    }\n",
       "\n",
       "    .dataframe tbody tr th {\n",
       "        vertical-align: top;\n",
       "    }\n",
       "\n",
       "    .dataframe thead th {\n",
       "        text-align: right;\n",
       "    }\n",
       "</style>\n",
       "<table border=\"1\" class=\"dataframe\">\n",
       "  <thead>\n",
       "    <tr style=\"text-align: right;\">\n",
       "      <th></th>\n",
       "      <th>Gender</th>\n",
       "      <th>treatment</th>\n",
       "      <th>mental_health_consequence</th>\n",
       "      <th>coworkers</th>\n",
       "      <th>supervisor</th>\n",
       "      <th>mental_health_interview</th>\n",
       "      <th>mental_vs_physical</th>\n",
       "    </tr>\n",
       "  </thead>\n",
       "  <tbody>\n",
       "    <tr>\n",
       "      <td>0</td>\n",
       "      <td>female</td>\n",
       "      <td>Yes</td>\n",
       "      <td>No</td>\n",
       "      <td>Some of them</td>\n",
       "      <td>Yes</td>\n",
       "      <td>No</td>\n",
       "      <td>Yes</td>\n",
       "    </tr>\n",
       "    <tr>\n",
       "      <td>1</td>\n",
       "      <td>male</td>\n",
       "      <td>No</td>\n",
       "      <td>Maybe</td>\n",
       "      <td>No</td>\n",
       "      <td>No</td>\n",
       "      <td>No</td>\n",
       "      <td>Don't know</td>\n",
       "    </tr>\n",
       "    <tr>\n",
       "      <td>2</td>\n",
       "      <td>male</td>\n",
       "      <td>No</td>\n",
       "      <td>No</td>\n",
       "      <td>Yes</td>\n",
       "      <td>Yes</td>\n",
       "      <td>Yes</td>\n",
       "      <td>No</td>\n",
       "    </tr>\n",
       "    <tr>\n",
       "      <td>3</td>\n",
       "      <td>male</td>\n",
       "      <td>Yes</td>\n",
       "      <td>Yes</td>\n",
       "      <td>Some of them</td>\n",
       "      <td>No</td>\n",
       "      <td>Maybe</td>\n",
       "      <td>No</td>\n",
       "    </tr>\n",
       "    <tr>\n",
       "      <td>4</td>\n",
       "      <td>male</td>\n",
       "      <td>No</td>\n",
       "      <td>No</td>\n",
       "      <td>Some of them</td>\n",
       "      <td>Yes</td>\n",
       "      <td>Yes</td>\n",
       "      <td>Don't know</td>\n",
       "    </tr>\n",
       "    <tr>\n",
       "      <td>...</td>\n",
       "      <td>...</td>\n",
       "      <td>...</td>\n",
       "      <td>...</td>\n",
       "      <td>...</td>\n",
       "      <td>...</td>\n",
       "      <td>...</td>\n",
       "      <td>...</td>\n",
       "    </tr>\n",
       "    <tr>\n",
       "      <td>1254</td>\n",
       "      <td>male</td>\n",
       "      <td>Yes</td>\n",
       "      <td>No</td>\n",
       "      <td>Some of them</td>\n",
       "      <td>Some of them</td>\n",
       "      <td>No</td>\n",
       "      <td>Don't know</td>\n",
       "    </tr>\n",
       "    <tr>\n",
       "      <td>1255</td>\n",
       "      <td>male</td>\n",
       "      <td>Yes</td>\n",
       "      <td>No</td>\n",
       "      <td>Some of them</td>\n",
       "      <td>Yes</td>\n",
       "      <td>No</td>\n",
       "      <td>Yes</td>\n",
       "    </tr>\n",
       "    <tr>\n",
       "      <td>1256</td>\n",
       "      <td>male</td>\n",
       "      <td>Yes</td>\n",
       "      <td>Yes</td>\n",
       "      <td>No</td>\n",
       "      <td>No</td>\n",
       "      <td>No</td>\n",
       "      <td>No</td>\n",
       "    </tr>\n",
       "    <tr>\n",
       "      <td>1257</td>\n",
       "      <td>female</td>\n",
       "      <td>No</td>\n",
       "      <td>Yes</td>\n",
       "      <td>No</td>\n",
       "      <td>No</td>\n",
       "      <td>No</td>\n",
       "      <td>No</td>\n",
       "    </tr>\n",
       "    <tr>\n",
       "      <td>1258</td>\n",
       "      <td>male</td>\n",
       "      <td>Yes</td>\n",
       "      <td>Maybe</td>\n",
       "      <td>Some of them</td>\n",
       "      <td>No</td>\n",
       "      <td>No</td>\n",
       "      <td>Don't know</td>\n",
       "    </tr>\n",
       "  </tbody>\n",
       "</table>\n",
       "<p>1259 rows × 7 columns</p>\n",
       "</div>"
      ],
      "text/plain": [
       "      Gender treatment mental_health_consequence     coworkers    supervisor  \\\n",
       "0     female       Yes                        No  Some of them           Yes   \n",
       "1       male        No                     Maybe            No            No   \n",
       "2       male        No                        No           Yes           Yes   \n",
       "3       male       Yes                       Yes  Some of them            No   \n",
       "4       male        No                        No  Some of them           Yes   \n",
       "...      ...       ...                       ...           ...           ...   \n",
       "1254    male       Yes                        No  Some of them  Some of them   \n",
       "1255    male       Yes                        No  Some of them           Yes   \n",
       "1256    male       Yes                       Yes            No            No   \n",
       "1257  female        No                       Yes            No            No   \n",
       "1258    male       Yes                     Maybe  Some of them            No   \n",
       "\n",
       "     mental_health_interview mental_vs_physical  \n",
       "0                         No                Yes  \n",
       "1                         No         Don't know  \n",
       "2                        Yes                 No  \n",
       "3                      Maybe                 No  \n",
       "4                        Yes         Don't know  \n",
       "...                      ...                ...  \n",
       "1254                      No         Don't know  \n",
       "1255                      No                Yes  \n",
       "1256                      No                 No  \n",
       "1257                      No                 No  \n",
       "1258                      No         Don't know  \n",
       "\n",
       "[1259 rows x 7 columns]"
      ]
     },
     "execution_count": 6,
     "metadata": {},
     "output_type": "execute_result"
    }
   ],
   "source": [
    "# select columns\n",
    "gender_att = tech[['Gender', 'treatment', 'mental_health_consequence', 'coworkers', \n",
    "                  'supervisor', 'mental_health_interview', 'mental_vs_physical']]\n",
    "\n",
    "gender_att"
   ]
  },
  {
   "cell_type": "code",
   "execution_count": 7,
   "metadata": {},
   "outputs": [],
   "source": [
    "male_att = gender_att.loc[gender_att['Gender'] == 'male']\n",
    "female_att = gender_att.loc[gender_att['Gender'] == 'female']\n",
    "other_att = gender_att.loc[gender_att['Gender'] == 'other']"
   ]
  },
  {
   "cell_type": "markdown",
   "metadata": {},
   "source": [
    "### Crosstabs"
   ]
  },
  {
   "cell_type": "code",
   "execution_count": 8,
   "metadata": {
    "scrolled": true
   },
   "outputs": [
    {
     "data": {
      "text/html": [
       "<div>\n",
       "<style scoped>\n",
       "    .dataframe tbody tr th:only-of-type {\n",
       "        vertical-align: middle;\n",
       "    }\n",
       "\n",
       "    .dataframe tbody tr th {\n",
       "        vertical-align: top;\n",
       "    }\n",
       "\n",
       "    .dataframe thead th {\n",
       "        text-align: right;\n",
       "    }\n",
       "</style>\n",
       "<table border=\"1\" class=\"dataframe\">\n",
       "  <thead>\n",
       "    <tr style=\"text-align: right;\">\n",
       "      <th>treatment</th>\n",
       "      <th>No</th>\n",
       "      <th>Yes</th>\n",
       "    </tr>\n",
       "    <tr>\n",
       "      <th>Gender</th>\n",
       "      <th></th>\n",
       "      <th></th>\n",
       "    </tr>\n",
       "  </thead>\n",
       "  <tbody>\n",
       "    <tr>\n",
       "      <td>female</td>\n",
       "      <td>0.313008</td>\n",
       "      <td>0.686992</td>\n",
       "    </tr>\n",
       "    <tr>\n",
       "      <td>male</td>\n",
       "      <td>0.544814</td>\n",
       "      <td>0.455186</td>\n",
       "    </tr>\n",
       "    <tr>\n",
       "      <td>other</td>\n",
       "      <td>0.200000</td>\n",
       "      <td>0.800000</td>\n",
       "    </tr>\n",
       "  </tbody>\n",
       "</table>\n",
       "</div>"
      ],
      "text/plain": [
       "treatment        No       Yes\n",
       "Gender                       \n",
       "female     0.313008  0.686992\n",
       "male       0.544814  0.455186\n",
       "other      0.200000  0.800000"
      ]
     },
     "execution_count": 8,
     "metadata": {},
     "output_type": "execute_result"
    }
   ],
   "source": [
    "# Gender and treatment\n",
    "crosstab_treatment = pd.crosstab(index=gender_att[\"Gender\"], columns=gender_att['treatment'], normalize='index')\n",
    "crosstab_treatment"
   ]
  },
  {
   "cell_type": "markdown",
   "metadata": {},
   "source": [
    "- 67 % of women have taken mental health treatment \n",
    "- 45 % of men have taken mental health treatment\n",
    "- 80% of the \"other\" have taken mental health treatment"
   ]
  },
  {
   "cell_type": "code",
   "execution_count": 9,
   "metadata": {
    "scrolled": true
   },
   "outputs": [
    {
     "data": {
      "text/html": [
       "<div>\n",
       "<style scoped>\n",
       "    .dataframe tbody tr th:only-of-type {\n",
       "        vertical-align: middle;\n",
       "    }\n",
       "\n",
       "    .dataframe tbody tr th {\n",
       "        vertical-align: top;\n",
       "    }\n",
       "\n",
       "    .dataframe thead th {\n",
       "        text-align: right;\n",
       "    }\n",
       "</style>\n",
       "<table border=\"1\" class=\"dataframe\">\n",
       "  <thead>\n",
       "    <tr style=\"text-align: right;\">\n",
       "      <th>mental_health_consequence</th>\n",
       "      <th>Maybe</th>\n",
       "      <th>No</th>\n",
       "      <th>Yes</th>\n",
       "    </tr>\n",
       "    <tr>\n",
       "      <th>Gender</th>\n",
       "      <th></th>\n",
       "      <th></th>\n",
       "      <th></th>\n",
       "    </tr>\n",
       "  </thead>\n",
       "  <tbody>\n",
       "    <tr>\n",
       "      <td>female</td>\n",
       "      <td>0.439024</td>\n",
       "      <td>0.292683</td>\n",
       "      <td>0.268293</td>\n",
       "    </tr>\n",
       "    <tr>\n",
       "      <td>male</td>\n",
       "      <td>0.366566</td>\n",
       "      <td>0.415911</td>\n",
       "      <td>0.217523</td>\n",
       "    </tr>\n",
       "    <tr>\n",
       "      <td>other</td>\n",
       "      <td>0.250000</td>\n",
       "      <td>0.250000</td>\n",
       "      <td>0.500000</td>\n",
       "    </tr>\n",
       "  </tbody>\n",
       "</table>\n",
       "</div>"
      ],
      "text/plain": [
       "mental_health_consequence     Maybe        No       Yes\n",
       "Gender                                                 \n",
       "female                     0.439024  0.292683  0.268293\n",
       "male                       0.366566  0.415911  0.217523\n",
       "other                      0.250000  0.250000  0.500000"
      ]
     },
     "execution_count": 9,
     "metadata": {},
     "output_type": "execute_result"
    }
   ],
   "source": [
    "# Gender and mental_health_consequence - Do you think that discussing a mental health issue with your employer would have negative consequences?\n",
    "crosstab_mental_health_consequence = pd.crosstab(index=gender_att[\"Gender\"], columns=gender_att['mental_health_consequence'], normalize='index')\n",
    "crosstab_mental_health_consequence"
   ]
  },
  {
   "cell_type": "markdown",
   "metadata": {},
   "source": [
    "- Women: 43% think that discussing a mental health issue with their employer might have negative consequences, 23% don't think so and 27% yes.\n",
    "- Men: 37% think that discussing a mental health issue with their employer might have negative consequences, 42% don't think so and 22% yes."
   ]
  },
  {
   "cell_type": "code",
   "execution_count": 10,
   "metadata": {
    "scrolled": true
   },
   "outputs": [
    {
     "data": {
      "text/html": [
       "<div>\n",
       "<style scoped>\n",
       "    .dataframe tbody tr th:only-of-type {\n",
       "        vertical-align: middle;\n",
       "    }\n",
       "\n",
       "    .dataframe tbody tr th {\n",
       "        vertical-align: top;\n",
       "    }\n",
       "\n",
       "    .dataframe thead th {\n",
       "        text-align: right;\n",
       "    }\n",
       "</style>\n",
       "<table border=\"1\" class=\"dataframe\">\n",
       "  <thead>\n",
       "    <tr style=\"text-align: right;\">\n",
       "      <th>coworkers</th>\n",
       "      <th>No</th>\n",
       "      <th>Some of them</th>\n",
       "      <th>Yes</th>\n",
       "    </tr>\n",
       "    <tr>\n",
       "      <th>Gender</th>\n",
       "      <th></th>\n",
       "      <th></th>\n",
       "      <th></th>\n",
       "    </tr>\n",
       "  </thead>\n",
       "  <tbody>\n",
       "    <tr>\n",
       "      <td>female</td>\n",
       "      <td>0.235772</td>\n",
       "      <td>0.630081</td>\n",
       "      <td>0.134146</td>\n",
       "    </tr>\n",
       "    <tr>\n",
       "      <td>male</td>\n",
       "      <td>0.199396</td>\n",
       "      <td>0.614300</td>\n",
       "      <td>0.186304</td>\n",
       "    </tr>\n",
       "    <tr>\n",
       "      <td>other</td>\n",
       "      <td>0.200000</td>\n",
       "      <td>0.450000</td>\n",
       "      <td>0.350000</td>\n",
       "    </tr>\n",
       "  </tbody>\n",
       "</table>\n",
       "</div>"
      ],
      "text/plain": [
       "coworkers        No  Some of them       Yes\n",
       "Gender                                     \n",
       "female     0.235772      0.630081  0.134146\n",
       "male       0.199396      0.614300  0.186304\n",
       "other      0.200000      0.450000  0.350000"
      ]
     },
     "execution_count": 10,
     "metadata": {},
     "output_type": "execute_result"
    }
   ],
   "source": [
    "# Gender and coworkers\n",
    "crosstab_coworkers = pd.crosstab(index=gender_att[\"Gender\"], columns=gender_att['coworkers'],normalize='index')\n",
    "crosstab_coworkers"
   ]
  },
  {
   "cell_type": "markdown",
   "metadata": {},
   "source": [
    "- The majority of men (61%) and women (63%) think that it depends on the coworkers. More men will be willing to talk to a coworker (18% against 13% of women)"
   ]
  },
  {
   "cell_type": "code",
   "execution_count": 11,
   "metadata": {},
   "outputs": [
    {
     "data": {
      "text/html": [
       "<div>\n",
       "<style scoped>\n",
       "    .dataframe tbody tr th:only-of-type {\n",
       "        vertical-align: middle;\n",
       "    }\n",
       "\n",
       "    .dataframe tbody tr th {\n",
       "        vertical-align: top;\n",
       "    }\n",
       "\n",
       "    .dataframe thead th {\n",
       "        text-align: right;\n",
       "    }\n",
       "</style>\n",
       "<table border=\"1\" class=\"dataframe\">\n",
       "  <thead>\n",
       "    <tr style=\"text-align: right;\">\n",
       "      <th>supervisor</th>\n",
       "      <th>No</th>\n",
       "      <th>Some of them</th>\n",
       "      <th>Yes</th>\n",
       "    </tr>\n",
       "    <tr>\n",
       "      <th>Gender</th>\n",
       "      <th></th>\n",
       "      <th></th>\n",
       "      <th></th>\n",
       "    </tr>\n",
       "  </thead>\n",
       "  <tbody>\n",
       "    <tr>\n",
       "      <td>female</td>\n",
       "      <td>0.349593</td>\n",
       "      <td>0.345528</td>\n",
       "      <td>0.304878</td>\n",
       "    </tr>\n",
       "    <tr>\n",
       "      <td>male</td>\n",
       "      <td>0.304129</td>\n",
       "      <td>0.258812</td>\n",
       "      <td>0.437059</td>\n",
       "    </tr>\n",
       "    <tr>\n",
       "      <td>other</td>\n",
       "      <td>0.250000</td>\n",
       "      <td>0.400000</td>\n",
       "      <td>0.350000</td>\n",
       "    </tr>\n",
       "  </tbody>\n",
       "</table>\n",
       "</div>"
      ],
      "text/plain": [
       "supervisor        No  Some of them       Yes\n",
       "Gender                                      \n",
       "female      0.349593      0.345528  0.304878\n",
       "male        0.304129      0.258812  0.437059\n",
       "other       0.250000      0.400000  0.350000"
      ]
     },
     "execution_count": 11,
     "metadata": {},
     "output_type": "execute_result"
    }
   ],
   "source": [
    "# Gender and supervisor\n",
    "crosstab_supervisor = pd.crosstab(index=gender_att[\"Gender\"], columns=gender_att['supervisor'], normalize='index')\n",
    "crosstab_supervisor"
   ]
  },
  {
   "cell_type": "markdown",
   "metadata": {},
   "source": [
    "- Men seem more confortable talking about mental health issues with there supervisor (43% against 30% of women)"
   ]
  },
  {
   "cell_type": "code",
   "execution_count": 20,
   "metadata": {},
   "outputs": [
    {
     "data": {
      "text/html": [
       "<div>\n",
       "<style scoped>\n",
       "    .dataframe tbody tr th:only-of-type {\n",
       "        vertical-align: middle;\n",
       "    }\n",
       "\n",
       "    .dataframe tbody tr th {\n",
       "        vertical-align: top;\n",
       "    }\n",
       "\n",
       "    .dataframe thead th {\n",
       "        text-align: right;\n",
       "    }\n",
       "</style>\n",
       "<table border=\"1\" class=\"dataframe\">\n",
       "  <thead>\n",
       "    <tr style=\"text-align: right;\">\n",
       "      <th>mental_health_interview</th>\n",
       "      <th>Maybe</th>\n",
       "      <th>No</th>\n",
       "      <th>Yes</th>\n",
       "    </tr>\n",
       "    <tr>\n",
       "      <th>Gender</th>\n",
       "      <th></th>\n",
       "      <th></th>\n",
       "      <th></th>\n",
       "    </tr>\n",
       "  </thead>\n",
       "  <tbody>\n",
       "    <tr>\n",
       "      <td>female</td>\n",
       "      <td>0.085366</td>\n",
       "      <td>0.906504</td>\n",
       "      <td>0.008130</td>\n",
       "    </tr>\n",
       "    <tr>\n",
       "      <td>male</td>\n",
       "      <td>0.185297</td>\n",
       "      <td>0.778449</td>\n",
       "      <td>0.036254</td>\n",
       "    </tr>\n",
       "    <tr>\n",
       "      <td>other</td>\n",
       "      <td>0.100000</td>\n",
       "      <td>0.600000</td>\n",
       "      <td>0.300000</td>\n",
       "    </tr>\n",
       "  </tbody>\n",
       "</table>\n",
       "</div>"
      ],
      "text/plain": [
       "mental_health_interview     Maybe        No       Yes\n",
       "Gender                                               \n",
       "female                   0.085366  0.906504  0.008130\n",
       "male                     0.185297  0.778449  0.036254\n",
       "other                    0.100000  0.600000  0.300000"
      ]
     },
     "execution_count": 20,
     "metadata": {},
     "output_type": "execute_result"
    }
   ],
   "source": [
    "# Gender and mental_health_interview\n",
    "crosstab_mental_health_interview = pd.crosstab(index=gender_att[\"Gender\"], columns=gender_att['mental_health_interview'], normalize='index')\n",
    "crosstab_mental_health_interview"
   ]
  },
  {
   "cell_type": "markdown",
   "metadata": {},
   "source": [
    "- Women: the high majority (90%) won't mention a mental health issue during an interview, 8% will maybe mention it and not even 1% will mention it.\n",
    "- Men: the majority (77%) won't mention a mental health issue during an interview, 2% will maybe mention it and not even 3% will mention it.\n",
    "\n",
    "- It seems that men are more confortable with mental health issue in the work environment than women"
   ]
  },
  {
   "cell_type": "code",
   "execution_count": 13,
   "metadata": {},
   "outputs": [
    {
     "data": {
      "text/html": [
       "<div>\n",
       "<style scoped>\n",
       "    .dataframe tbody tr th:only-of-type {\n",
       "        vertical-align: middle;\n",
       "    }\n",
       "\n",
       "    .dataframe tbody tr th {\n",
       "        vertical-align: top;\n",
       "    }\n",
       "\n",
       "    .dataframe thead th {\n",
       "        text-align: right;\n",
       "    }\n",
       "</style>\n",
       "<table border=\"1\" class=\"dataframe\">\n",
       "  <thead>\n",
       "    <tr style=\"text-align: right;\">\n",
       "      <th>mental_vs_physical</th>\n",
       "      <th>Don't know</th>\n",
       "      <th>No</th>\n",
       "      <th>Yes</th>\n",
       "    </tr>\n",
       "    <tr>\n",
       "      <th>Gender</th>\n",
       "      <th></th>\n",
       "      <th></th>\n",
       "      <th></th>\n",
       "    </tr>\n",
       "  </thead>\n",
       "  <tbody>\n",
       "    <tr>\n",
       "      <td>female</td>\n",
       "      <td>0.443089</td>\n",
       "      <td>0.264228</td>\n",
       "      <td>0.292683</td>\n",
       "    </tr>\n",
       "    <tr>\n",
       "      <td>male</td>\n",
       "      <td>0.468278</td>\n",
       "      <td>0.267875</td>\n",
       "      <td>0.263847</td>\n",
       "    </tr>\n",
       "    <tr>\n",
       "      <td>other</td>\n",
       "      <td>0.100000</td>\n",
       "      <td>0.450000</td>\n",
       "      <td>0.450000</td>\n",
       "    </tr>\n",
       "  </tbody>\n",
       "</table>\n",
       "</div>"
      ],
      "text/plain": [
       "mental_vs_physical  Don't know        No       Yes\n",
       "Gender                                            \n",
       "female                0.443089  0.264228  0.292683\n",
       "male                  0.468278  0.267875  0.263847\n",
       "other                 0.100000  0.450000  0.450000"
      ]
     },
     "execution_count": 13,
     "metadata": {},
     "output_type": "execute_result"
    }
   ],
   "source": [
    "# Gender and mental_vs_physical\n",
    "crosstab_mental_vs_physical = pd.crosstab(index=gender_att[\"Gender\"], columns=gender_att['mental_vs_physical'], normalize='index')\n",
    "crosstab_mental_vs_physical"
   ]
  },
  {
   "cell_type": "markdown",
   "metadata": {},
   "source": [
    "- For both women and men, the majority doesn't know."
   ]
  },
  {
   "cell_type": "code",
   "execution_count": 19,
   "metadata": {},
   "outputs": [
    {
     "data": {
      "text/plain": [
       "[<matplotlib.lines.Line2D at 0x11bfd7190>,\n",
       " <matplotlib.lines.Line2D at 0x11ca93450>]"
      ]
     },
     "execution_count": 19,
     "metadata": {},
     "output_type": "execute_result"
    },
    {
     "data": {
      "image/png": "[encoded data removed]",
      "text/plain": [
       "<Figure size 432x288 with 1 Axes>"
      ]
     },
     "metadata": {
      "needs_background": "light"
     },
     "output_type": "display_data"
    }
   ],
   "source": [
    "# Gender and mental_vs_physical without \"Don't know\"\n",
    "gender_att['mental_vs_physical'].replace(\"Don't know\", np.nan, inplace=True)\n",
    "\n",
    "crosstab_mental_vs_physical = pd.crosstab(index=gender_att[\"Gender\"], columns=gender_att['mental_vs_physical'], normalize='index')\n",
    "crosstab_mental_vs_physical.columns = [['Yes', 'No']]\n",
    "crosstab_mental_vs_physical\n",
    "\n",
    "plt.plot(crosstab_mental_vs_physical)"
   ]
  },
  {
   "cell_type": "markdown",
   "metadata": {},
   "source": [
    "Without the \"Don't know\" answer: \n",
    "- for men it's really close 50/50\n",
    "- for women it's a little more spread out with a majority for No"
   ]
  }
 ],
 "metadata": {
  "kernelspec": {
   "display_name": "Python 3",
   "language": "python",
   "name": "python3"
  },
  "language_info": {
   "codemirror_mode": {
    "name": "ipython",
    "version": 3
   },
   "file_extension": ".py",
   "mimetype": "text/x-python",
   "name": "python",
   "nbconvert_exporter": "python",
   "pygments_lexer": "ipython3",
   "version": "3.7.4"
  }
 },
 "nbformat": 4,
 "nbformat_minor": 2
}
